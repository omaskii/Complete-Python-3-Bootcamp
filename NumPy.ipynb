{
  "nbformat": 4,
  "nbformat_minor": 0,
  "metadata": {
    "colab": {
      "provenance": [],
      "authorship_tag": "ABX9TyOCyAwZJVUX7Peh5pH7xyRJ",
      "include_colab_link": true
    },
    "kernelspec": {
      "name": "python3",
      "display_name": "Python 3"
    },
    "language_info": {
      "name": "python"
    }
  },
  "cells": [
    {
      "cell_type": "markdown",
      "metadata": {
        "id": "view-in-github",
        "colab_type": "text"
      },
      "source": [
        "<a href=\"https://colab.research.google.com/github/omaskii/Complete-Python-3-Bootcamp/blob/master/NumPy.ipynb\" target=\"_parent\"><img src=\"https://colab.research.google.com/assets/colab-badge.svg\" alt=\"Open In Colab\"/></a>"
      ]
    },
    {
      "cell_type": "code",
      "source": [],
      "metadata": {
        "id": "jwtgRBTGfqQM"
      },
      "execution_count": null,
      "outputs": []
    },
    {
      "cell_type": "markdown",
      "source": [
        "## **Solomon Akatakpo** - Lecture notes from Great Learning"
      ],
      "metadata": {
        "id": "IRermyimmixf"
      }
    },
    {
      "cell_type": "code",
      "source": [
        "# The first step of using numpy is to tell python to import it\n",
        "import numpy as np"
      ],
      "metadata": {
        "id": "wTp9At-Smnkb"
      },
      "execution_count": 15,
      "outputs": []
    },
    {
      "cell_type": "markdown",
      "source": [
        "An array is a data structure that stores values of same data type.\n",
        "While python lists can contain values corresponding to different data types, arrays in python can only contain values corresponding to the same data type.\n",
        "However python lists fail to deliver the performance required while computing large sets of numerical data. To address this issue we use NumPy arrays.\n",
        "We can create NumPy arrays by converting a list to an array."
      ],
      "metadata": {
        "id": "2_-h6iFkfuoV"
      }
    },
    {
      "cell_type": "code",
      "source": [
        "# defining a list of different car companies or string elements\n",
        "arr_str = ['Mercedes', 'BMW', 'Audi', 'Ferrari', 'Tesla']\n",
        "\n",
        "# defining a list of number of cylinders in car or numerical elements\n",
        "arr_num = [5, 4, 6, 7, 3]"
      ],
      "metadata": {
        "id": "dpOe99YegSZY"
      },
      "execution_count": 2,
      "outputs": []
    },
    {
      "cell_type": "code",
      "source": [
        "# connverting the list arr_str to a NumPy array\n",
        "np_arr_str = np.array(arr_str)\n",
        "\n",
        "\n",
        "# connverting the list arr_num to a NumPy array\n",
        "np_arr_num = np.array(arr_num)\n",
        "\n",
        "# checking the output\n",
        "print('Numpy Array (arr_str): ',np_arr_str)\n",
        "print('Numpy Array (arr_num): ',np_arr_num)"
      ],
      "metadata": {
        "colab": {
          "base_uri": "https://localhost:8080/"
        },
        "id": "2fjlzEchgVNb",
        "outputId": "979f6f91-404e-4081-a437-aab802093be6"
      },
      "execution_count": 3,
      "outputs": [
        {
          "output_type": "stream",
          "name": "stdout",
          "text": [
            "Numpy Array (arr_str):  ['Mercedes' 'BMW' 'Audi' 'Ferrari' 'Tesla']\n",
            "Numpy Array (arr_num):  [5 4 6 7 3]\n"
          ]
        }
      ]
    },
    {
      "cell_type": "code",
      "source": [],
      "metadata": {
        "id": "9y2zxYYagYQi"
      },
      "execution_count": null,
      "outputs": []
    },
    {
      "cell_type": "markdown",
      "source": [
        "The resuts look similar to a list but arr_str and arr_num have been converted to NumPy arrays. Let's check the data type to confirm this."
      ],
      "metadata": {
        "id": "VVuAHy4vgkZ3"
      }
    },
    {
      "cell_type": "code",
      "source": [
        "# printing the data type of lists\n",
        "print('Data type of arr_str: ',type(arr_str))\n",
        "print('Data type of arr_num: ',type(arr_num))\n",
        "\n",
        "# printing the data type after conversion of lists to array\n",
        "print('Data type of np_arr_str: ',type(np_arr_str))\n",
        "print('Data type of np_arr_num: ',type(np_arr_num))"
      ],
      "metadata": {
        "colab": {
          "base_uri": "https://localhost:8080/"
        },
        "id": "wL4wLq34gnjl",
        "outputId": "0e4e1a2f-4425-4a73-c671-b4606531f4b0"
      },
      "execution_count": 4,
      "outputs": [
        {
          "output_type": "stream",
          "name": "stdout",
          "text": [
            "Data type of arr_str:  <class 'list'>\n",
            "Data type of arr_num:  <class 'list'>\n",
            "Data type of np_arr_str:  <class 'numpy.ndarray'>\n",
            "Data type of np_arr_num:  <class 'numpy.ndarray'>\n"
          ]
        }
      ]
    },
    {
      "cell_type": "code",
      "source": [],
      "metadata": {
        "id": "bUh3rOPRgrGz"
      },
      "execution_count": null,
      "outputs": []
    },
    {
      "cell_type": "markdown",
      "source": [
        "The above output confirms that both the lists were successfully converted to arrays"
      ],
      "metadata": {
        "id": "xqZJEn3ugxOk"
      }
    },
    {
      "cell_type": "code",
      "source": [],
      "metadata": {
        "id": "YQcZ7ItrhUsa"
      },
      "execution_count": null,
      "outputs": []
    },
    {
      "cell_type": "markdown",
      "source": [
        "NumPy Matrix\n",
        "A matrix is a two-dimensional data structure where elements are arranged into rows and columns.\n",
        "A matrix can be created by using list of lists"
      ],
      "metadata": {
        "id": "_iWhrGAMhZNi"
      }
    },
    {
      "cell_type": "code",
      "source": [
        "# let's say we have information of different number of cylinders in a car and we want to display them in a matrix format\n",
        "matrix = np.array([[1,2,1],[4,5,9],[1,8,9]])\n",
        "print(matrix)"
      ],
      "metadata": {
        "colab": {
          "base_uri": "https://localhost:8080/"
        },
        "id": "Kl13xY1fhrMc",
        "outputId": "0658dff2-f71d-41d6-be32-9586ee3b402c"
      },
      "execution_count": 5,
      "outputs": [
        {
          "output_type": "stream",
          "name": "stdout",
          "text": [
            "[[1 2 1]\n",
            " [4 5 9]\n",
            " [1 8 9]]\n"
          ]
        }
      ]
    },
    {
      "cell_type": "code",
      "source": [
        "print('Data type of matrix: ',type(matrix))"
      ],
      "metadata": {
        "colab": {
          "base_uri": "https://localhost:8080/"
        },
        "id": "YynaencihtVH",
        "outputId": "8b7627b9-6b28-458e-e9fc-f8ecdbbac527"
      },
      "execution_count": 6,
      "outputs": [
        {
          "output_type": "stream",
          "name": "stdout",
          "text": [
            "Data type of matrix:  <class 'numpy.ndarray'>\n"
          ]
        }
      ]
    },
    {
      "cell_type": "code",
      "source": [],
      "metadata": {
        "id": "HNE-ncJShwil"
      },
      "execution_count": null,
      "outputs": []
    },
    {
      "cell_type": "markdown",
      "source": [
        "We see that all the NumPy objects have data type as ndarray\n",
        "\n",
        "There are different ways to create NumPy arrays using the functions available in NumPy library\n",
        "\n",
        "Using np.arange() function\n",
        "\n",
        "The np.arange() function returns an array with evenly spaced elements as per the interval. The interval mentioned is half-opened i.e. start is included but stop is excluded.\n",
        "It has the following paramaters:\n",
        "start : start of interval range. By default start = 0\n",
        "stop : end of interval range\n",
        "step : step size of interval. By default step size = 1"
      ],
      "metadata": {
        "id": "cF7ygIknh2Fh"
      }
    },
    {
      "cell_type": "code",
      "source": [
        "arr2  = np.arange(start = 0, stop = 10) # 10 will be excluded from the output\n",
        "print(arr2)\n",
        "\n",
        "# or\n",
        "\n",
        "arr2  = np.arange(0,10) \n",
        "print(arr2)"
      ],
      "metadata": {
        "colab": {
          "base_uri": "https://localhost:8080/"
        },
        "id": "rcwABGW6iqZ1",
        "outputId": "0f2f5a6e-80d6-4fd2-c107-d2a8ee876422"
      },
      "execution_count": 7,
      "outputs": [
        {
          "output_type": "stream",
          "name": "stdout",
          "text": [
            "[0 1 2 3 4 5 6 7 8 9]\n",
            "[0 1 2 3 4 5 6 7 8 9]\n"
          ]
        }
      ]
    },
    {
      "cell_type": "code",
      "source": [
        "# adding a step size of 5 to create an array\n",
        "arr3  = np.arange(start = 0, stop = 20, step = 5)\n",
        "arr3"
      ],
      "metadata": {
        "colab": {
          "base_uri": "https://localhost:8080/"
        },
        "id": "KAFGlEkLjDPV",
        "outputId": "aec4855c-34ee-42ea-e29f-2927241afa1e"
      },
      "execution_count": 8,
      "outputs": [
        {
          "output_type": "execute_result",
          "data": {
            "text/plain": [
              "array([ 0,  5, 10, 15])"
            ]
          },
          "metadata": {},
          "execution_count": 8
        }
      ]
    },
    {
      "cell_type": "code",
      "source": [
        "np.arange(0,20,5)"
      ],
      "metadata": {
        "colab": {
          "base_uri": "https://localhost:8080/"
        },
        "id": "y0T9LR2kjIA9",
        "outputId": "e6ef4f60-cbb5-45f7-a547-0ed275022643"
      },
      "execution_count": 9,
      "outputs": [
        {
          "output_type": "execute_result",
          "data": {
            "text/plain": [
              "array([ 0,  5, 10, 15])"
            ]
          },
          "metadata": {},
          "execution_count": 9
        }
      ]
    },
    {
      "cell_type": "code",
      "source": [],
      "metadata": {
        "id": "47NFCjvOjRbe"
      },
      "execution_count": null,
      "outputs": []
    },
    {
      "cell_type": "markdown",
      "source": [
        "Using np.linspace() function\n",
        "\n",
        "The np.linspace() function returns numbers which are evenly distributed with respect to interval. Here the start and stop both are included.\n",
        "*It has the following parameters:\n",
        "start: start of interval range. By default start = 0\n",
        "stop: end of interval range\n",
        "num : No. of samples to generate. By default num = 50"
      ],
      "metadata": {
        "id": "wglSD809j1n-"
      }
    },
    {
      "cell_type": "code",
      "source": [
        "matrix2 = np.linspace(0,5) # by default 50 evenly spaced values will be generated between 0 and 5\n",
        "matrix2"
      ],
      "metadata": {
        "colab": {
          "base_uri": "https://localhost:8080/"
        },
        "id": "bcIV_OZ3kHd_",
        "outputId": "7ce566e6-272b-4989-bb6f-141f6fed8ec5"
      },
      "execution_count": 10,
      "outputs": [
        {
          "output_type": "execute_result",
          "data": {
            "text/plain": [
              "array([0.        , 0.10204082, 0.20408163, 0.30612245, 0.40816327,\n",
              "       0.51020408, 0.6122449 , 0.71428571, 0.81632653, 0.91836735,\n",
              "       1.02040816, 1.12244898, 1.2244898 , 1.32653061, 1.42857143,\n",
              "       1.53061224, 1.63265306, 1.73469388, 1.83673469, 1.93877551,\n",
              "       2.04081633, 2.14285714, 2.24489796, 2.34693878, 2.44897959,\n",
              "       2.55102041, 2.65306122, 2.75510204, 2.85714286, 2.95918367,\n",
              "       3.06122449, 3.16326531, 3.26530612, 3.36734694, 3.46938776,\n",
              "       3.57142857, 3.67346939, 3.7755102 , 3.87755102, 3.97959184,\n",
              "       4.08163265, 4.18367347, 4.28571429, 4.3877551 , 4.48979592,\n",
              "       4.59183673, 4.69387755, 4.79591837, 4.89795918, 5.        ])"
            ]
          },
          "metadata": {},
          "execution_count": 10
        }
      ]
    },
    {
      "cell_type": "markdown",
      "source": [
        "How are these values getting generated?\n",
        "\n",
        "The step size or the difference between each element will be decided by the following formula:\n",
        "\n",
        "(stop - start) / (total elements - 1)\n",
        "\n",
        "So, in this case: (5 - 0) / 49 = 0.10204082\n",
        "\n",
        "The first value will be 0.10204082, the second value will be 0.10204082 + 0.10204082, the third value will be 0.10204082 + 0.10204082 +0.10204082, and so on."
      ],
      "metadata": {
        "id": "0OKUnHjQkury"
      }
    },
    {
      "cell_type": "code",
      "source": [
        "# generating 10 evenly spaced values between 10 and 20\n",
        "matrix3 = np.linspace(10,20,10)\n",
        "matrix3"
      ],
      "metadata": {
        "colab": {
          "base_uri": "https://localhost:8080/"
        },
        "id": "RAokOr_7kwbh",
        "outputId": "36c985a7-3ed4-43c1-c370-ab905c3806cd"
      },
      "execution_count": 11,
      "outputs": [
        {
          "output_type": "execute_result",
          "data": {
            "text/plain": [
              "array([10.        , 11.11111111, 12.22222222, 13.33333333, 14.44444444,\n",
              "       15.55555556, 16.66666667, 17.77777778, 18.88888889, 20.        ])"
            ]
          },
          "metadata": {},
          "execution_count": 11
        }
      ]
    },
    {
      "cell_type": "markdown",
      "source": [
        "Similarly we can create matrices using the functions available in NumPy library\n",
        "\n",
        "Using np.zeros()\n",
        "\n",
        "The np.zeros() is a function for creating a matrix and performing matrix operations in NumPy.\n",
        "It returns a matrix filled with zeros of the given shape.\n",
        "It has the following parameters:\n",
        "shape : Number of rows and columns in the output matrix.\n",
        "dtype: data type of the elements in the matrix, by default the value is set to float."
      ],
      "metadata": {
        "id": "7VpX-bpBlOyN"
      }
    },
    {
      "cell_type": "code",
      "source": [
        "matrix4 = np.zeros([3,5])\n",
        "matrix4"
      ],
      "metadata": {
        "colab": {
          "base_uri": "https://localhost:8080/"
        },
        "id": "y7YxnNQNlS4c",
        "outputId": "9f8135ed-4ed0-433e-e9f4-db02a1563e1a"
      },
      "execution_count": 12,
      "outputs": [
        {
          "output_type": "execute_result",
          "data": {
            "text/plain": [
              "array([[0., 0., 0., 0., 0.],\n",
              "       [0., 0., 0., 0., 0.],\n",
              "       [0., 0., 0., 0., 0.]])"
            ]
          },
          "metadata": {},
          "execution_count": 12
        }
      ]
    },
    {
      "cell_type": "markdown",
      "source": [
        "Using np.ones()\n",
        "\n",
        "The np.ones() is another function for creating a matrix and performing matrix operations in NumPy.\n",
        "It returns a matrix of given shape and type, filled with ones.\n",
        "It has the following parameters:\n",
        "shape : Number of rows and columns in the output matrix.\n",
        "dtype: data type of the elements in the matrix, by default the value is set to float."
      ],
      "metadata": {
        "id": "VgG4CRqclxzT"
      }
    },
    {
      "cell_type": "code",
      "source": [
        "Matrix_ones = np.ones([5,10])\n",
        "Matrix_ones"
      ],
      "metadata": {
        "colab": {
          "base_uri": "https://localhost:8080/"
        },
        "id": "7nk3qu99kI_A",
        "outputId": "7fd4d882-8ce4-4f2f-dc8a-05ea4df9b923"
      },
      "execution_count": 14,
      "outputs": [
        {
          "output_type": "execute_result",
          "data": {
            "text/plain": [
              "array([[1., 1., 1., 1., 1., 1., 1., 1., 1., 1.],\n",
              "       [1., 1., 1., 1., 1., 1., 1., 1., 1., 1.],\n",
              "       [1., 1., 1., 1., 1., 1., 1., 1., 1., 1.],\n",
              "       [1., 1., 1., 1., 1., 1., 1., 1., 1., 1.],\n",
              "       [1., 1., 1., 1., 1., 1., 1., 1., 1., 1.]])"
            ]
          },
          "metadata": {},
          "execution_count": 14
        }
      ]
    },
    {
      "cell_type": "markdown",
      "source": [
        "Using np.eye()\n",
        "\n",
        "The np.eye() is a function for creating a matrix and performing matrix operations in NumPy.\n",
        "It returns a matrix with ones on the diagonal and zeros elsewhere.\n",
        "It has the following parameters:\n",
        "n: Number of rows and columns in the output matrix\n",
        "dtype: data type of the elements in the matrix, by default the value is set to float."
      ],
      "metadata": {
        "id": "LfbcIFlXmSmK"
      }
    },
    {
      "cell_type": "code",
      "source": [
        "Matrix6 = np.eye(4)\n",
        "Matrix6"
      ],
      "metadata": {
        "colab": {
          "base_uri": "https://localhost:8080/"
        },
        "id": "Z7nhO6tkmabj",
        "outputId": "1eef5ce9-f343-4f59-ff72-b653cc3688aa"
      },
      "execution_count": 16,
      "outputs": [
        {
          "output_type": "execute_result",
          "data": {
            "text/plain": [
              "array([[1., 0., 0., 0.],\n",
              "       [0., 1., 0., 0.],\n",
              "       [0., 0., 1., 0.],\n",
              "       [0., 0., 0., 1.]])"
            ]
          },
          "metadata": {},
          "execution_count": 16
        }
      ]
    },
    {
      "cell_type": "markdown",
      "source": [
        "We can also convert a one dimension array to a matrix. This can be done by using the np.reshape() function.\n",
        "\n",
        "The shape of an array basically tells the number of elements and dimensions of the array. Reshaping a Numpy array simply means changing the shape of the given array.\n",
        "By reshaping an array we can add or remove dimensions or change number of elements in each dimension.\n",
        "In order to reshape a NumPy array, we use the reshape method with the given array.\n",
        "Syntax: array.reshape(shape)\n",
        "shape: a tuple given as input, the values in tuple will be the new shape of the array."
      ],
      "metadata": {
        "id": "rX6qC0Y_m808"
      }
    },
    {
      "cell_type": "code",
      "source": [
        "# defining an array with values 0 to 14\n",
        "arr4 = np.arange(0,15) \n",
        "arr4"
      ],
      "metadata": {
        "colab": {
          "base_uri": "https://localhost:8080/"
        },
        "id": "B0jXZcF5l-PR",
        "outputId": "33b866ae-906a-4d14-b360-88a16eed842f"
      },
      "execution_count": 21,
      "outputs": [
        {
          "output_type": "execute_result",
          "data": {
            "text/plain": [
              "array([ 0,  1,  2,  3,  4,  5,  6,  7,  8,  9, 10, 11, 12, 13, 14])"
            ]
          },
          "metadata": {},
          "execution_count": 21
        }
      ]
    },
    {
      "cell_type": "code",
      "source": [
        "# the way to reshape the above one dimensional array into a 2 dimensional array is given below\n",
        "arr4_reshaped = arr4.reshape((3,5))\n",
        "arr4_reshaped"
      ],
      "metadata": {
        "colab": {
          "base_uri": "https://localhost:8080/"
        },
        "id": "cO624-N-nEbe",
        "outputId": "c7e4f73d-5ef7-4c91-d25f-7876b0c3ae9f"
      },
      "execution_count": 22,
      "outputs": [
        {
          "output_type": "execute_result",
          "data": {
            "text/plain": [
              "array([[ 0,  1,  2,  3,  4],\n",
              "       [ 5,  6,  7,  8,  9],\n",
              "       [10, 11, 12, 13, 14]])"
            ]
          },
          "metadata": {},
          "execution_count": 22
        }
      ]
    },
    {
      "cell_type": "markdown",
      "source": [
        "NumPy can also perform a large number of different mathematical operations and it provides different functions to do so.\n",
        "\n",
        "NumPy provides:\n",
        "\n",
        "Trigonometric functions\n",
        "Exponents and Logarithmic functions\n",
        "Functions for arithmetic operations between arrays and matrices\n",
        "\n",
        "**Trigonometric functions**"
      ],
      "metadata": {
        "id": "o_65fcrGom2w"
      }
    },
    {
      "cell_type": "code",
      "source": [
        "print('Sine Function:',np.sin(4))\n",
        "print('Cosine Function:',np.cos(4))\n",
        "print('Tan Function',np.tan(4))"
      ],
      "metadata": {
        "colab": {
          "base_uri": "https://localhost:8080/"
        },
        "id": "-XYh8tblovVA",
        "outputId": "c7ec18dc-30a1-4dc9-fc75-62f6c25bfd4a"
      },
      "execution_count": 23,
      "outputs": [
        {
          "output_type": "stream",
          "name": "stdout",
          "text": [
            "Sine Function: -0.7568024953079282\n",
            "Cosine Function: -0.6536436208636119\n",
            "Tan Function 1.1578212823495775\n"
          ]
        }
      ]
    },
    {
      "cell_type": "markdown",
      "source": [
        "**Exponents and Logarithmic functions**\n",
        "\n",
        "Exponents"
      ],
      "metadata": {
        "id": "Uv0j87LXpRBi"
      }
    },
    {
      "cell_type": "code",
      "source": [
        "np.exp(2)"
      ],
      "metadata": {
        "colab": {
          "base_uri": "https://localhost:8080/"
        },
        "id": "nUm2cxYenvPl",
        "outputId": "7a3508af-56f2-47f4-ba6c-3f0fa2c281e6"
      },
      "execution_count": 24,
      "outputs": [
        {
          "output_type": "execute_result",
          "data": {
            "text/plain": [
              "7.38905609893065"
            ]
          },
          "metadata": {},
          "execution_count": 24
        }
      ]
    },
    {
      "cell_type": "code",
      "source": [
        "arr5 = np.array([2,4,6])\n",
        "np.exp(arr5)"
      ],
      "metadata": {
        "colab": {
          "base_uri": "https://localhost:8080/"
        },
        "id": "-h4YF8LPpqoo",
        "outputId": "f89b896f-9015-460b-d6e6-b9e212b9a467"
      },
      "execution_count": 25,
      "outputs": [
        {
          "output_type": "execute_result",
          "data": {
            "text/plain": [
              "array([  7.3890561 ,  54.59815003, 403.42879349])"
            ]
          },
          "metadata": {},
          "execution_count": 25
        }
      ]
    },
    {
      "cell_type": "markdown",
      "source": [
        "Logarithms"
      ],
      "metadata": {
        "id": "g6YjGSn4p3GX"
      }
    },
    {
      "cell_type": "code",
      "source": [
        "# by default NumPy takes the base of log as e\n",
        "np.log(2)"
      ],
      "metadata": {
        "colab": {
          "base_uri": "https://localhost:8080/"
        },
        "id": "Uc8W6ca1p7GW",
        "outputId": "11162c8d-4c98-4f98-d052-613012b68a6f"
      },
      "execution_count": 26,
      "outputs": [
        {
          "output_type": "execute_result",
          "data": {
            "text/plain": [
              "0.6931471805599453"
            ]
          },
          "metadata": {},
          "execution_count": 26
        }
      ]
    },
    {
      "cell_type": "code",
      "source": [
        "np.log(arr5)"
      ],
      "metadata": {
        "colab": {
          "base_uri": "https://localhost:8080/"
        },
        "id": "V8RqdkGup00i",
        "outputId": "aabb6718-2512-4dfd-fed7-b8c1992b3f63"
      },
      "execution_count": 27,
      "outputs": [
        {
          "output_type": "execute_result",
          "data": {
            "text/plain": [
              "array([0.69314718, 1.38629436, 1.79175947])"
            ]
          },
          "metadata": {},
          "execution_count": 27
        }
      ]
    },
    {
      "cell_type": "code",
      "source": [
        "## log with base 10\n",
        "np.log10(8) "
      ],
      "metadata": {
        "colab": {
          "base_uri": "https://localhost:8080/"
        },
        "id": "LL9_6wwsqFF5",
        "outputId": "0ddf3de8-20bb-4d75-f6af-37c476b87bff"
      },
      "execution_count": 28,
      "outputs": [
        {
          "output_type": "execute_result",
          "data": {
            "text/plain": [
              "0.9030899869919435"
            ]
          },
          "metadata": {},
          "execution_count": 28
        }
      ]
    },
    {
      "cell_type": "markdown",
      "source": [
        "Arithmetic Operations on arrays"
      ],
      "metadata": {
        "id": "4IaNAD0LqkYU"
      }
    },
    {
      "cell_type": "code",
      "source": [
        "# arithmetic on lists\n",
        "\n",
        "l1 = [1,2,3]\n",
        "l2 = [4,5,6]\n",
        "print(l1+l2)\n",
        "# this does not behave as you would expect!"
      ],
      "metadata": {
        "colab": {
          "base_uri": "https://localhost:8080/"
        },
        "id": "8709JrKXqmzZ",
        "outputId": "1da29743-23a4-47de-f457-aa9a25dca496"
      },
      "execution_count": 29,
      "outputs": [
        {
          "output_type": "stream",
          "name": "stdout",
          "text": [
            "[1, 2, 3, 4, 5, 6]\n"
          ]
        }
      ]
    },
    {
      "cell_type": "code",
      "source": [
        "# we can +-*/ arrays together\n",
        "\n",
        "# defining two arrays\n",
        "arr7 = np.arange(1,6)\n",
        "print('arr7:', arr7)\n",
        "\n",
        "arr8 = np.arange(3,8)\n",
        "print('arr8:', arr8)"
      ],
      "metadata": {
        "colab": {
          "base_uri": "https://localhost:8080/"
        },
        "id": "LdYLx-SBqtqF",
        "outputId": "38d007b8-15ff-4674-e413-00ff13b3fd4b"
      },
      "execution_count": 30,
      "outputs": [
        {
          "output_type": "stream",
          "name": "stdout",
          "text": [
            "arr7: [1 2 3 4 5]\n",
            "arr8: [3 4 5 6 7]\n"
          ]
        }
      ]
    },
    {
      "cell_type": "code",
      "source": [
        "print('Addition: ',arr7+arr8)\n",
        "print('Subtraction: ',arr8-arr7)\n",
        "print('Multiplication:' , arr7*arr8)\n",
        "print('Division:', arr7/arr8)\n",
        "print('Inverse:', 1/arr7)\n",
        "print('Powers:', arr7**arr8) # in python, powers are achieved using **, NOT ^!!! ^ does something completely different!\n"
      ],
      "metadata": {
        "colab": {
          "base_uri": "https://localhost:8080/"
        },
        "id": "Fep8SbD9rPJD",
        "outputId": "0567c689-2ffe-48c5-a01f-eb3209ccacbc"
      },
      "execution_count": 31,
      "outputs": [
        {
          "output_type": "stream",
          "name": "stdout",
          "text": [
            "Addition:  [ 4  6  8 10 12]\n",
            "Subtraction:  [2 2 2 2 2]\n",
            "Multiplication: [ 3  8 15 24 35]\n",
            "Division: [0.33333333 0.5        0.6        0.66666667 0.71428571]\n",
            "Inverse: [1.         0.5        0.33333333 0.25       0.2       ]\n",
            "Powers: [    1    16   243  4096 78125]\n"
          ]
        }
      ]
    },
    {
      "cell_type": "markdown",
      "source": [
        "**Operations on Matrices**"
      ],
      "metadata": {
        "id": "l_mdPxAarZyY"
      }
    },
    {
      "cell_type": "code",
      "source": [
        "matrix7 = np.arange(1,10).reshape(3,3)\n",
        "print(matrix7)\n",
        "\n",
        "matrix8 = np.eye(3)\n",
        "print(matrix8)"
      ],
      "metadata": {
        "colab": {
          "base_uri": "https://localhost:8080/"
        },
        "id": "GFnK2oAvrvL1",
        "outputId": "a045f037-e3f8-4dd7-8449-00d2a468c7a9"
      },
      "execution_count": 32,
      "outputs": [
        {
          "output_type": "stream",
          "name": "stdout",
          "text": [
            "[[1 2 3]\n",
            " [4 5 6]\n",
            " [7 8 9]]\n",
            "[[1. 0. 0.]\n",
            " [0. 1. 0.]\n",
            " [0. 0. 1.]]\n"
          ]
        }
      ]
    },
    {
      "cell_type": "code",
      "source": [
        "print('Addition: \\n', matrix7+matrix8)\n",
        "print('Subtraction: \\n ', matrix7-matrix8)\n",
        "print('Multiplication: \\n', matrix7*matrix8)\n",
        "print('Division: \\n', matrix7/matrix8)"
      ],
      "metadata": {
        "colab": {
          "base_uri": "https://localhost:8080/"
        },
        "id": "Fz20tGfHrUlR",
        "outputId": "68095b8f-c927-451c-de00-7e0b8735cbe1"
      },
      "execution_count": 33,
      "outputs": [
        {
          "output_type": "stream",
          "name": "stdout",
          "text": [
            "Addition: \n",
            " [[ 2.  2.  3.]\n",
            " [ 4.  6.  6.]\n",
            " [ 7.  8. 10.]]\n",
            "Subtraction: \n",
            "  [[0. 2. 3.]\n",
            " [4. 4. 6.]\n",
            " [7. 8. 8.]]\n",
            "Multiplication: \n",
            " [[1. 0. 0.]\n",
            " [0. 5. 0.]\n",
            " [0. 0. 9.]]\n",
            "Division: \n",
            " [[ 1. inf inf]\n",
            " [inf  5. inf]\n",
            " [inf inf  9.]]\n"
          ]
        },
        {
          "output_type": "stream",
          "name": "stderr",
          "text": [
            "<ipython-input-33-b49c47b4c85a>:4: RuntimeWarning: divide by zero encountered in true_divide\n",
            "  print('Division: \\n', matrix7/matrix8)\n"
          ]
        }
      ]
    },
    {
      "cell_type": "markdown",
      "source": [
        "RuntimeWarning: Errors which occur during program execution(run-time) after successful compilation are called run-time errors.\n",
        "One of the most common run-time error is division by zero also known as Division error.\n",
        "Due to division by zero error, we are getting inf (infinity) values because 1/0 is not a defined operation."
      ],
      "metadata": {
        "id": "7Ugk76ilskvD"
      }
    },
    {
      "cell_type": "markdown",
      "source": [
        "**Linear algebra matrix multiplication**"
      ],
      "metadata": {
        "id": "RZxzKbsqszXq"
      }
    },
    {
      "cell_type": "code",
      "source": [
        "matrix9 = np.arange(1,10).reshape(3,3)\n",
        "print('First Matrix: \\n',matrix9)\n",
        "\n",
        "matrix10 = np.arange(11,20).reshape(3,3)\n",
        "print('Second Matrix: \\n',matrix10)\n",
        "print('')\n",
        "# taking linear algebra matrix multiplication (some may have heard this called the dot product)\n",
        "print('Multiplication: \\n', matrix9 @ matrix10)"
      ],
      "metadata": {
        "colab": {
          "base_uri": "https://localhost:8080/"
        },
        "id": "IwmjtlBjtEJP",
        "outputId": "628ca43e-f01b-46c9-ecc1-f6fe5a9cfc72"
      },
      "execution_count": 34,
      "outputs": [
        {
          "output_type": "stream",
          "name": "stdout",
          "text": [
            "First Matrix: \n",
            " [[1 2 3]\n",
            " [4 5 6]\n",
            " [7 8 9]]\n",
            "Second Matrix: \n",
            " [[11 12 13]\n",
            " [14 15 16]\n",
            " [17 18 19]]\n",
            "\n",
            "Multiplication: \n",
            " [[ 90  96 102]\n",
            " [216 231 246]\n",
            " [342 366 390]]\n"
          ]
        }
      ]
    },
    {
      "cell_type": "markdown",
      "source": [
        "**Transpose of a matrix**"
      ],
      "metadata": {
        "id": "oTKvk7HdtWXf"
      }
    },
    {
      "cell_type": "code",
      "source": [
        "print(matrix9)"
      ],
      "metadata": {
        "colab": {
          "base_uri": "https://localhost:8080/"
        },
        "id": "CGnYUQNetrry",
        "outputId": "d7a6bd8e-37a9-465c-8885-65c0fe40ee18"
      },
      "execution_count": 35,
      "outputs": [
        {
          "output_type": "stream",
          "name": "stdout",
          "text": [
            "[[1 2 3]\n",
            " [4 5 6]\n",
            " [7 8 9]]\n"
          ]
        }
      ]
    },
    {
      "cell_type": "code",
      "source": [
        "# taking transpose of matrix\n",
        "np.transpose(matrix9)"
      ],
      "metadata": {
        "colab": {
          "base_uri": "https://localhost:8080/"
        },
        "id": "LRwyzepptvEV",
        "outputId": "75f7d0a9-222b-4137-fe1a-9866a9300314"
      },
      "execution_count": 36,
      "outputs": [
        {
          "output_type": "execute_result",
          "data": {
            "text/plain": [
              "array([[1, 4, 7],\n",
              "       [2, 5, 8],\n",
              "       [3, 6, 9]])"
            ]
          },
          "metadata": {},
          "execution_count": 36
        }
      ]
    },
    {
      "cell_type": "code",
      "source": [
        "# another way of taking a transpose\n",
        "matrix9.T"
      ],
      "metadata": {
        "colab": {
          "base_uri": "https://localhost:8080/"
        },
        "id": "l6ghxvdstwBj",
        "outputId": "8836de57-3b5e-4fba-dedd-6c10799e617a"
      },
      "execution_count": 37,
      "outputs": [
        {
          "output_type": "execute_result",
          "data": {
            "text/plain": [
              "array([[1, 4, 7],\n",
              "       [2, 5, 8],\n",
              "       [3, 6, 9]])"
            ]
          },
          "metadata": {},
          "execution_count": 37
        }
      ]
    },
    {
      "cell_type": "code",
      "source": [],
      "metadata": {
        "id": "LXOrITm2tzwh"
      },
      "execution_count": null,
      "outputs": []
    },
    {
      "cell_type": "markdown",
      "source": [
        "**Function to find minimum and maximum values**"
      ],
      "metadata": {
        "id": "0TJ279ctt2x2"
      }
    },
    {
      "cell_type": "code",
      "source": [
        "print(matrix9)"
      ],
      "metadata": {
        "colab": {
          "base_uri": "https://localhost:8080/"
        },
        "id": "34SRgCTKuDK9",
        "outputId": "aca281c8-9f81-4ae0-edab-e728d99f232f"
      },
      "execution_count": 38,
      "outputs": [
        {
          "output_type": "stream",
          "name": "stdout",
          "text": [
            "[[1 2 3]\n",
            " [4 5 6]\n",
            " [7 8 9]]\n"
          ]
        }
      ]
    },
    {
      "cell_type": "code",
      "source": [
        "print('Minimum value: ',np.min(matrix9))"
      ],
      "metadata": {
        "colab": {
          "base_uri": "https://localhost:8080/"
        },
        "id": "6z0oEpWTuGAr",
        "outputId": "777abf59-0248-4277-d102-8a1e2141c76c"
      },
      "execution_count": 39,
      "outputs": [
        {
          "output_type": "stream",
          "name": "stdout",
          "text": [
            "Minimum value:  1\n"
          ]
        }
      ]
    },
    {
      "cell_type": "code",
      "source": [
        "print('Maximum value: ',np.max(matrix9))"
      ],
      "metadata": {
        "colab": {
          "base_uri": "https://localhost:8080/"
        },
        "id": "1pMmyRAsuLHp",
        "outputId": "1a7138bb-006b-432c-b95a-1ef2b773ec32"
      },
      "execution_count": 40,
      "outputs": [
        {
          "output_type": "stream",
          "name": "stdout",
          "text": [
            "Maximum value:  9\n"
          ]
        }
      ]
    },
    {
      "cell_type": "markdown",
      "source": [
        "**Function to generate random samples**\n",
        "\n",
        "**Using np.random.rand function**\n",
        "\n",
        "The np.random.rand returns a random NumPy array whose element(s) are drawn randomly from the normal distribution over [0,1). (including 0 but excluding 1).\n",
        "Syntax - np.random.rand(d0,d1)\n",
        "d0,d1 – It represents the dimension of the required array given as int, where d1 is optional."
      ],
      "metadata": {
        "id": "ehpUVUqDuh77"
      }
    },
    {
      "cell_type": "code",
      "source": [
        "# Generating random values in an array\n",
        "rand_mat = np.random.rand(5)\n",
        "print(rand_mat)"
      ],
      "metadata": {
        "colab": {
          "base_uri": "https://localhost:8080/"
        },
        "id": "ijZ55T4tuPH2",
        "outputId": "cff4de3d-3a22-447e-cfeb-f46a5951b0c0"
      },
      "execution_count": 42,
      "outputs": [
        {
          "output_type": "stream",
          "name": "stdout",
          "text": [
            "[0.07819633 0.34821932 0.21733969 0.80823843 0.98242399]\n"
          ]
        }
      ]
    },
    {
      "cell_type": "code",
      "source": [
        "# * Generating random values in a matrix\n",
        "rand_mat = np.random.rand(5,5) # uniform random variable\n",
        "print(rand_mat)"
      ],
      "metadata": {
        "colab": {
          "base_uri": "https://localhost:8080/"
        },
        "id": "taxDeJSUue5u",
        "outputId": "99288355-d6fb-4fad-e9ec-6bd784e3c114"
      },
      "execution_count": 43,
      "outputs": [
        {
          "output_type": "stream",
          "name": "stdout",
          "text": [
            "[[0.13960542 0.45540405 0.21548702 0.0442641  0.02446824]\n",
            " [0.30794651 0.41633487 0.20223996 0.95331521 0.81797255]\n",
            " [0.91042531 0.10502654 0.34020142 0.21724663 0.41536841]\n",
            " [0.94150843 0.53527046 0.03777765 0.27651013 0.03143651]\n",
            " [0.46349293 0.40629505 0.9446929  0.79763601 0.76390177]]\n"
          ]
        }
      ]
    },
    {
      "cell_type": "code",
      "source": [],
      "metadata": {
        "id": "_aLoZ_xLvF5O"
      },
      "execution_count": null,
      "outputs": []
    }
  ]
}