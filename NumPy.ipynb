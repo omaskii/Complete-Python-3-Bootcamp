{
  "nbformat": 4,
  "nbformat_minor": 0,
  "metadata": {
    "colab": {
      "provenance": [],
      "authorship_tag": "ABX9TyOqAysenn1j0jhQnulkVrld",
      "include_colab_link": true
    },
    "kernelspec": {
      "name": "python3",
      "display_name": "Python 3"
    },
    "language_info": {
      "name": "python"
    }
  },
  "cells": [
    {
      "cell_type": "markdown",
      "metadata": {
        "id": "view-in-github",
        "colab_type": "text"
      },
      "source": [
        "<a href=\"https://colab.research.google.com/github/omaskii/Complete-Python-3-Bootcamp/blob/master/NumPy.ipynb\" target=\"_parent\"><img src=\"https://colab.research.google.com/assets/colab-badge.svg\" alt=\"Open In Colab\"/></a>"
      ]
    },
    {
      "cell_type": "code",
      "execution_count": 1,
      "metadata": {
        "id": "QZCJFj45fCEb"
      },
      "outputs": [],
      "source": [
        "# The first step of using numpy is to tell python to import it\n",
        "import numpy as np"
      ]
    },
    {
      "cell_type": "code",
      "source": [],
      "metadata": {
        "id": "jwtgRBTGfqQM"
      },
      "execution_count": null,
      "outputs": []
    },
    {
      "cell_type": "markdown",
      "source": [
        "An array is a data structure that stores values of same data type.\n",
        "While python lists can contain values corresponding to different data types, arrays in python can only contain values corresponding to the same data type.\n",
        "However python lists fail to deliver the performance required while computing large sets of numerical data. To address this issue we use NumPy arrays.\n",
        "We can create NumPy arrays by converting a list to an array. **bold text**"
      ],
      "metadata": {
        "id": "2_-h6iFkfuoV"
      }
    },
    {
      "cell_type": "code",
      "source": [
        "# defining a list of different car companies or string elements\n",
        "arr_str = ['Mercedes', 'BMW', 'Audi', 'Ferrari', 'Tesla']\n",
        "\n",
        "# defining a list of number of cylinders in car or numerical elements\n",
        "arr_num = [5, 4, 6, 7, 3]"
      ],
      "metadata": {
        "id": "dpOe99YegSZY"
      },
      "execution_count": 2,
      "outputs": []
    },
    {
      "cell_type": "code",
      "source": [
        "# connverting the list arr_str to a NumPy array\n",
        "np_arr_str = np.array(arr_str)\n",
        "\n",
        "\n",
        "# connverting the list arr_num to a NumPy array\n",
        "np_arr_num = np.array(arr_num)\n",
        "\n",
        "# checking the output\n",
        "print('Numpy Array (arr_str): ',np_arr_str)\n",
        "print('Numpy Array (arr_num): ',np_arr_num)"
      ],
      "metadata": {
        "colab": {
          "base_uri": "https://localhost:8080/"
        },
        "id": "2fjlzEchgVNb",
        "outputId": "979f6f91-404e-4081-a437-aab802093be6"
      },
      "execution_count": 3,
      "outputs": [
        {
          "output_type": "stream",
          "name": "stdout",
          "text": [
            "Numpy Array (arr_str):  ['Mercedes' 'BMW' 'Audi' 'Ferrari' 'Tesla']\n",
            "Numpy Array (arr_num):  [5 4 6 7 3]\n"
          ]
        }
      ]
    },
    {
      "cell_type": "code",
      "source": [],
      "metadata": {
        "id": "9y2zxYYagYQi"
      },
      "execution_count": null,
      "outputs": []
    },
    {
      "cell_type": "markdown",
      "source": [
        "The resuts look similar to a list but arr_str and arr_num have been converted to NumPy arrays. Let's check the data type to confirm this."
      ],
      "metadata": {
        "id": "VVuAHy4vgkZ3"
      }
    },
    {
      "cell_type": "code",
      "source": [
        "# printing the data type of lists\n",
        "print('Data type of arr_str: ',type(arr_str))\n",
        "print('Data type of arr_num: ',type(arr_num))\n",
        "\n",
        "# printing the data type after conversion of lists to array\n",
        "print('Data type of np_arr_str: ',type(np_arr_str))\n",
        "print('Data type of np_arr_num: ',type(np_arr_num))"
      ],
      "metadata": {
        "colab": {
          "base_uri": "https://localhost:8080/"
        },
        "id": "wL4wLq34gnjl",
        "outputId": "0e4e1a2f-4425-4a73-c671-b4606531f4b0"
      },
      "execution_count": 4,
      "outputs": [
        {
          "output_type": "stream",
          "name": "stdout",
          "text": [
            "Data type of arr_str:  <class 'list'>\n",
            "Data type of arr_num:  <class 'list'>\n",
            "Data type of np_arr_str:  <class 'numpy.ndarray'>\n",
            "Data type of np_arr_num:  <class 'numpy.ndarray'>\n"
          ]
        }
      ]
    },
    {
      "cell_type": "code",
      "source": [],
      "metadata": {
        "id": "bUh3rOPRgrGz"
      },
      "execution_count": null,
      "outputs": []
    },
    {
      "cell_type": "markdown",
      "source": [
        "The above output confirms that both the lists were successfully converted to arrays"
      ],
      "metadata": {
        "id": "xqZJEn3ugxOk"
      }
    }
  ]
}